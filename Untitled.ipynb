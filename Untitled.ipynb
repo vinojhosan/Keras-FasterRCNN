{
 "cells": [
  {
   "cell_type": "code",
   "execution_count": 2,
   "metadata": {},
   "outputs": [],
   "source": [
    "import pandas as pd\n",
    "import numpy as np"
   ]
  },
  {
   "cell_type": "code",
   "execution_count": 3,
   "metadata": {
    "collapsed": true
   },
   "outputs": [],
   "source": [
    "full_df = pd.read_csv('full_dataset.csv')"
   ]
  },
  {
   "cell_type": "code",
   "execution_count": 4,
   "metadata": {},
   "outputs": [
    {
     "data": {
      "text/html": [
       "<div>\n",
       "<style>\n",
       "    .dataframe thead tr:only-child th {\n",
       "        text-align: right;\n",
       "    }\n",
       "\n",
       "    .dataframe thead th {\n",
       "        text-align: left;\n",
       "    }\n",
       "\n",
       "    .dataframe tbody tr th {\n",
       "        vertical-align: top;\n",
       "    }\n",
       "</style>\n",
       "<table border=\"1\" class=\"dataframe\">\n",
       "  <thead>\n",
       "    <tr style=\"text-align: right;\">\n",
       "      <th></th>\n",
       "      <th>Unnamed: 0</th>\n",
       "      <th>class_name</th>\n",
       "      <th>image_name</th>\n",
       "      <th>xmax</th>\n",
       "      <th>xmin</th>\n",
       "      <th>ymax</th>\n",
       "      <th>ymin</th>\n",
       "    </tr>\n",
       "  </thead>\n",
       "  <tbody>\n",
       "    <tr>\n",
       "      <th>0</th>\n",
       "      <td>0</td>\n",
       "      <td>WBC</td>\n",
       "      <td>BloodImage_00000.jpg</td>\n",
       "      <td>491</td>\n",
       "      <td>260</td>\n",
       "      <td>376</td>\n",
       "      <td>177</td>\n",
       "    </tr>\n",
       "    <tr>\n",
       "      <th>1</th>\n",
       "      <td>1</td>\n",
       "      <td>RBC</td>\n",
       "      <td>BloodImage_00000.jpg</td>\n",
       "      <td>184</td>\n",
       "      <td>78</td>\n",
       "      <td>435</td>\n",
       "      <td>336</td>\n",
       "    </tr>\n",
       "    <tr>\n",
       "      <th>2</th>\n",
       "      <td>2</td>\n",
       "      <td>RBC</td>\n",
       "      <td>BloodImage_00000.jpg</td>\n",
       "      <td>169</td>\n",
       "      <td>63</td>\n",
       "      <td>336</td>\n",
       "      <td>237</td>\n",
       "    </tr>\n",
       "    <tr>\n",
       "      <th>3</th>\n",
       "      <td>3</td>\n",
       "      <td>RBC</td>\n",
       "      <td>BloodImage_00000.jpg</td>\n",
       "      <td>320</td>\n",
       "      <td>214</td>\n",
       "      <td>461</td>\n",
       "      <td>362</td>\n",
       "    </tr>\n",
       "    <tr>\n",
       "      <th>4</th>\n",
       "      <td>4</td>\n",
       "      <td>RBC</td>\n",
       "      <td>BloodImage_00000.jpg</td>\n",
       "      <td>506</td>\n",
       "      <td>414</td>\n",
       "      <td>445</td>\n",
       "      <td>352</td>\n",
       "    </tr>\n",
       "  </tbody>\n",
       "</table>\n",
       "</div>"
      ],
      "text/plain": [
       "   Unnamed: 0 class_name            image_name  xmax  xmin  ymax  ymin\n",
       "0           0        WBC  BloodImage_00000.jpg   491   260   376   177\n",
       "1           1        RBC  BloodImage_00000.jpg   184    78   435   336\n",
       "2           2        RBC  BloodImage_00000.jpg   169    63   336   237\n",
       "3           3        RBC  BloodImage_00000.jpg   320   214   461   362\n",
       "4           4        RBC  BloodImage_00000.jpg   506   414   445   352"
      ]
     },
     "execution_count": 4,
     "metadata": {},
     "output_type": "execute_result"
    }
   ],
   "source": [
    "full_df.head()"
   ]
  },
  {
   "cell_type": "code",
   "execution_count": 6,
   "metadata": {},
   "outputs": [],
   "source": [
    "master_df = full_df\n",
    "\n",
    "from sklearn.model_selection import train_test_split\n",
    "image_list = master_df.image_name.unique()\n",
    "train, test = train_test_split(image_list, test_size=0.30)\n",
    "\n",
    "train_df = master_df[master_df.image_name.isin(train)]\n",
    "test_df = master_df[master_df.image_name.isin(test)]"
   ]
  },
  {
   "cell_type": "markdown",
   "metadata": {},
   "source": [
    "### filepath,x1,y1,x2,y2,class_name"
   ]
  },
  {
   "cell_type": "code",
   "execution_count": 8,
   "metadata": {
    "collapsed": true
   },
   "outputs": [],
   "source": [
    "image_path = \"G:/Books/Hands On Computer Vision/code/chapter6/BCCD_Dataset-master/BCCD/JPEGImages/\""
   ]
  },
  {
   "cell_type": "code",
   "execution_count": 18,
   "metadata": {
    "collapsed": true
   },
   "outputs": [],
   "source": [
    "def nameappend(image_name):\n",
    "    return 'JPEGImages/'+image_name\n",
    "\n",
    "def dataset_to_required_format(in_df):\n",
    "    out_df = pd.DataFrame()\n",
    "    out_df[\"filepath\"] = in_df['image_name'].apply(nameappend)\n",
    "    out_df[\"x1\"] = in_df[\"xmin\"]\n",
    "    out_df[\"y1\"] = in_df[\"ymin\"]\n",
    "    out_df[\"x2\"] = in_df[\"xmax\"]\n",
    "    out_df[\"y2\"] = in_df[\"ymax\"]\n",
    "    out_df[\"class_name\"] = in_df[\"class_name\"]\n",
    "    \n",
    "    return out_df"
   ]
  },
  {
   "cell_type": "code",
   "execution_count": 19,
   "metadata": {
    "collapsed": true
   },
   "outputs": [],
   "source": [
    "train_df_mod = dataset_to_required_format(train_df)\n",
    "test_df_mod = dataset_to_required_format(test_df)"
   ]
  },
  {
   "cell_type": "code",
   "execution_count": 22,
   "metadata": {},
   "outputs": [],
   "source": [
    "train_df_mod.to_csv(\"train.csv\",header=False, index=False) # ,cols=[\"filepath\",\"x1\",\"y1\",\"x2\", \"y2\", \"class_name\"]\n",
    "test_df_mod.to_csv(\"test.csv\",header=False, index=False)"
   ]
  },
  {
   "cell_type": "code",
   "execution_count": null,
   "metadata": {
    "collapsed": true
   },
   "outputs": [],
   "source": [
    "!python train_frcnn.py -o simple -p train.csv"
   ]
  },
  {
   "cell_type": "code",
   "execution_count": null,
   "metadata": {
    "collapsed": true
   },
   "outputs": [],
   "source": []
  }
 ],
 "metadata": {
  "kernelspec": {
   "display_name": "Python 3",
   "language": "python",
   "name": "python3"
  },
  "language_info": {
   "codemirror_mode": {
    "name": "ipython",
    "version": 3
   },
   "file_extension": ".py",
   "mimetype": "text/x-python",
   "name": "python",
   "nbconvert_exporter": "python",
   "pygments_lexer": "ipython3",
   "version": "3.6.3"
  }
 },
 "nbformat": 4,
 "nbformat_minor": 2
}
